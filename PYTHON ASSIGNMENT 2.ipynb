{
 "cells": [
  {
   "cell_type": "code",
   "execution_count": 1,
   "id": "b7541494-5222-417c-bcac-2089e79a3325",
   "metadata": {},
   "outputs": [
    {
     "name": "stdout",
     "output_type": "stream",
     "text": [
      "[12, 45, 67, 89, 23]\n",
      "[12, 45, 67, 89, 23, 34, 56, 78]\n",
      "12\n",
      "45\n",
      "67\n",
      "89\n",
      "23\n",
      "34\n",
      "56\n",
      "78\n",
      "{'name': 'John', 'age': 25, 'address': 'New York', 'phone': '1234567890'}\n",
      "{1, 2, 4, 5, 6}\n",
      "4\n"
     ]
    }
   ],
   "source": [
    "# List Exercise\n",
    "my_list = [12, 45, 67, 89, 23]\n",
    "print(my_list)\n",
    "\n",
    "my_list.extend([34, 56, 78])\n",
    "print(my_list)\n",
    "\n",
    "for item in my_list:\n",
    "    print(item)\n",
    "\n",
    "# Dictionary Exercise\n",
    "my_dict = {'name': 'John', 'age': 25, 'address': 'New York'}\n",
    "my_dict['phone'] = '1234567890'\n",
    "print(my_dict)\n",
    "\n",
    "# Set Exercise\n",
    "my_set = {1, 2, 3, 4, 5}\n",
    "my_set.add(6)\n",
    "my_set.remove(3)\n",
    "print(my_set)\n",
    "\n",
    "# Tuple Exercise\n",
    "my_tuple = (1, 2, 3, 4)\n",
    "print(len(my_tuple))\n"
   ]
  },
  {
   "cell_type": "code",
   "execution_count": null,
   "id": "326c5c3a-592c-4f7c-afb1-d30a1fd0b08e",
   "metadata": {},
   "outputs": [],
   "source": []
  }
 ],
 "metadata": {
  "kernelspec": {
   "display_name": "Python 3 (ipykernel)",
   "language": "python",
   "name": "python3"
  },
  "language_info": {
   "codemirror_mode": {
    "name": "ipython",
    "version": 3
   },
   "file_extension": ".py",
   "mimetype": "text/x-python",
   "name": "python",
   "nbconvert_exporter": "python",
   "pygments_lexer": "ipython3",
   "version": "3.12.7"
  }
 },
 "nbformat": 4,
 "nbformat_minor": 5
}
