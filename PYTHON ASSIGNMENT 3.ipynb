{
 "cells": [
  {
   "cell_type": "code",
   "execution_count": null,
   "id": "374c95f5-6c1c-45ac-8a13-5f717a41e162",
   "metadata": {},
   "outputs": [
    {
     "name": "stdin",
     "output_type": "stream",
     "text": [
      "Enter the month:  2\n"
     ]
    },
    {
     "name": "stdout",
     "output_type": "stream",
     "text": [
      "Month 2 is February\n"
     ]
    },
    {
     "name": "stdin",
     "output_type": "stream",
     "text": [
      "Enter your age:  19\n"
     ]
    },
    {
     "name": "stdout",
     "output_type": "stream",
     "text": [
      "Your ticket costs £6.00\n"
     ]
    },
    {
     "name": "stdin",
     "output_type": "stream",
     "text": [
      "Enter your weight in (kg):  70\n",
      "Enter your height in (m):  175\n"
     ]
    },
    {
     "name": "stdout",
     "output_type": "stream",
     "text": [
      "Your BMI is: 0.00\n",
      "You are in the 'underweight' range.\n"
     ]
    },
    {
     "name": "stdin",
     "output_type": "stream",
     "text": [
      "Enter first number:  9\n",
      "Enter second number:  4\n",
      "Enter third number:  0\n"
     ]
    },
    {
     "name": "stdout",
     "output_type": "stream",
     "text": [
      "Greatest number is: 9.0\n"
     ]
    },
    {
     "name": "stdin",
     "output_type": "stream",
     "text": [
      "Enter a number:  50\n"
     ]
    },
    {
     "name": "stdout",
     "output_type": "stream",
     "text": [
      "Factorial of 50 is 30414093201713378043612608166064768844377641568960512000000000000\n"
     ]
    },
    {
     "name": "stdin",
     "output_type": "stream",
     "text": [
      "Enter a number to reverse:  6\n"
     ]
    },
    {
     "name": "stdout",
     "output_type": "stream",
     "text": [
      "Reversed number: 6\n"
     ]
    },
    {
     "name": "stdin",
     "output_type": "stream",
     "text": [
      "Enter a number to find its multiples up to 100:  5\n"
     ]
    },
    {
     "name": "stdout",
     "output_type": "stream",
     "text": [
      "5\n",
      "10\n",
      "15\n",
      "20\n",
      "25\n",
      "30\n",
      "35\n",
      "40\n",
      "45\n",
      "50\n",
      "55\n",
      "60\n",
      "65\n",
      "70\n",
      "75\n",
      "80\n",
      "85\n",
      "90\n",
      "95\n",
      "100\n"
     ]
    },
    {
     "name": "stdin",
     "output_type": "stream",
     "text": [
      ": 4\n"
     ]
    },
    {
     "name": "stdout",
     "output_type": "stream",
     "text": [
      "4\n"
     ]
    },
    {
     "name": "stdin",
     "output_type": "stream",
     "text": [
      ": 4\n"
     ]
    },
    {
     "name": "stdout",
     "output_type": "stream",
     "text": [
      "4\n"
     ]
    }
   ],
   "source": [
    "# Exercise 1 - MonthNames.py\n",
    "month_num = int(input(\"Enter the month: \"))\n",
    "months = [\"January\", \"February\", \"March\", \"April\", \"May\", \"June\", \n",
    "          \"July\", \"August\", \"September\", \"October\", \"November\", \"December\"]\n",
    "if 1 <= month_num <= 12:\n",
    "    print(f\"Month {month_num} is {months[month_num - 1]}\")\n",
    "else:\n",
    "    print(\"Invalid month number\")\n",
    "\n",
    "# Exercise 2\n",
    "age = int(input(\"Enter your age: \"))\n",
    "full_price = 6.0\n",
    "if age < 16:\n",
    "    price = full_price / 2\n",
    "elif age >= 60:\n",
    "    price = full_price / 3\n",
    "else:\n",
    "    price = full_price\n",
    "print(f\"Your ticket costs £{price:.2f}\")\n",
    "\n",
    "# Exercise 3 - BodyMassIndex.py\n",
    "weight = float(input(\"Enter your weight in (kg): \"))\n",
    "height = float(input(\"Enter your height in (m): \"))\n",
    "bmi = weight / (height ** 2)\n",
    "print(f\"Your BMI is: {bmi:.2f}\")\n",
    "if bmi < 18.5:\n",
    "    print(\"You are in the 'underweight' range.\")\n",
    "elif 18.5 <= bmi <= 24.9:\n",
    "    print(\"You are in the 'normal' range.\")\n",
    "elif 25 <= bmi <= 29.9:\n",
    "    print(\"You are in the 'overweight' range.\")\n",
    "else:\n",
    "    print(\"You are in the 'obese' range.\")\n",
    "\n",
    "# Exercise 4\n",
    "a = float(input(\"Enter first number: \"))\n",
    "b = float(input(\"Enter second number: \"))\n",
    "c = float(input(\"Enter third number: \"))\n",
    "print(\"Greatest number is:\", max(a, b, c))\n",
    "\n",
    "# Exercise 5\n",
    "num = int(input(\"Enter a number: \"))\n",
    "factorial = 1\n",
    "for i in range(1, num + 1):\n",
    "    factorial *= i\n",
    "print(f\"Factorial of {num} is {factorial}\")\n",
    "\n",
    "# Exercise 6\n",
    "num = int(input(\"Enter a number to reverse: \"))\n",
    "reverse = 0\n",
    "while num > 0:\n",
    "    digit = num % 10\n",
    "    reverse = reverse * 10 + digit\n",
    "    num = num // 10\n",
    "print(\"Reversed number:\", reverse)\n",
    "\n",
    "# Exercise 7\n",
    "number = int(input(\"Enter a number to find its multiples up to 100: \"))\n",
    "for i in range(1, 101):\n",
    "    if i % number == 0:\n",
    "        print(i)\n",
    "\n",
    "# Exercise 8\n",
    "while True:\n",
    "    value = input(\":\")\n",
    "    if value.lower() == 'done':\n",
    "        print(\"Done\")\n",
    "        break\n",
    "    print(value)\n",
    "\n",
    "# Exercise 9\n",
    "for i in range(1, 11):\n",
    "    if i % 3 == 0 and i % 5 == 0:\n",
    "        print(\"FizzBuzz\")\n",
    "    elif i % 3 == 0:\n",
    "        print(\"Fizz\")\n",
    "    elif i % 5 == 0:\n",
    "        print(\"Buzz\")\n",
    "    else:\n",
    "        print(i)\n",
    "\n",
    "# Exercise 10\n",
    "for i in range(5, 0, -1):\n",
    "    for j in range(i, 0, -1):\n",
    "        print(j, end=' ')\n",
    "    print()\n"
   ]
  },
  {
   "cell_type": "code",
   "execution_count": null,
   "id": "86d63173-aa39-47c5-8a5c-ab164ce18479",
   "metadata": {},
   "outputs": [],
   "source": []
  }
 ],
 "metadata": {
  "kernelspec": {
   "display_name": "Python 3 (ipykernel)",
   "language": "python",
   "name": "python3"
  },
  "language_info": {
   "codemirror_mode": {
    "name": "ipython",
    "version": 3
   },
   "file_extension": ".py",
   "mimetype": "text/x-python",
   "name": "python",
   "nbconvert_exporter": "python",
   "pygments_lexer": "ipython3",
   "version": "3.12.7"
  }
 },
 "nbformat": 4,
 "nbformat_minor": 5
}
