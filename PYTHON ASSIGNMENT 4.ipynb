{
 "cells": [
  {
   "cell_type": "code",
   "execution_count": 1,
   "id": "105897b0-1b8a-4243-bfa5-92982d164822",
   "metadata": {},
   "outputs": [
    {
     "name": "stdout",
     "output_type": "stream",
     "text": [
      "Length of the list: 5\n",
      "Hello, Alice!\n",
      "Maximum value: 44\n",
      "Inside function, local x = 5\n",
      "Outside function, global x = 10\n",
      "Area with length=10 and width=4: 40\n",
      "Area with length=10 (default width): 50\n"
     ]
    }
   ],
   "source": [
    "# What does len() do in Python?\n",
    "# The len() function returns the number of items in an object (like a list, string, tuple, etc.)\n",
    "\n",
    "# Example using len() to find the length of a list\n",
    "my_list = [10, 20, 30, 40, 50]\n",
    "print(\"Length of the list:\", len(my_list))\n",
    "\n",
    "# greet() function\n",
    "def greet(name):\n",
    "    print(f\"Hello, {name}!\")\n",
    "\n",
    "greet(\"Alice\")\n",
    "\n",
    "# find_maximum() function without using max()\n",
    "def find_maximum(numbers):\n",
    "    if not numbers:\n",
    "        return None  # Return None for an empty list\n",
    "    max_value = numbers[0]\n",
    "    for num in numbers:\n",
    "        if num > max_value:\n",
    "            max_value = num\n",
    "    return max_value\n",
    "\n",
    "print(\"Maximum value:\", find_maximum([3, 9, 1, 44, 12]))\n",
    "\n",
    "# Local vs Global variables explanation and example\n",
    "x = 10  # Global variable\n",
    "\n",
    "def demo():\n",
    "    x = 5  # Local variable\n",
    "    print(\"Inside function, local x =\", x)\n",
    "\n",
    "demo()\n",
    "print(\"Outside function, global x =\", x)\n",
    "\n",
    "# Explanation:\n",
    "# The variable 'x' inside the function is local to that function.\n",
    "# It does not affect the global variable 'x' outside the function.\n",
    "\n",
    "# calculate_area() function with default argument\n",
    "def calculate_area(length, width=5):\n",
    "    return length * width\n",
    "\n",
    "# Calling with both arguments\n",
    "print(\"Area with length=10 and width=4:\", calculate_area(10, 4))\n",
    "\n",
    "# Calling with only length, width uses default\n",
    "print(\"Area with length=10 (default width):\", calculate_area(10))\n"
   ]
  },
  {
   "cell_type": "code",
   "execution_count": null,
   "id": "94b6b23e-5b58-40be-9716-fb1de904c376",
   "metadata": {},
   "outputs": [],
   "source": []
  }
 ],
 "metadata": {
  "kernelspec": {
   "display_name": "Python 3 (ipykernel)",
   "language": "python",
   "name": "python3"
  },
  "language_info": {
   "codemirror_mode": {
    "name": "ipython",
    "version": 3
   },
   "file_extension": ".py",
   "mimetype": "text/x-python",
   "name": "python",
   "nbconvert_exporter": "python",
   "pygments_lexer": "ipython3",
   "version": "3.12.7"
  }
 },
 "nbformat": 4,
 "nbformat_minor": 5
}
