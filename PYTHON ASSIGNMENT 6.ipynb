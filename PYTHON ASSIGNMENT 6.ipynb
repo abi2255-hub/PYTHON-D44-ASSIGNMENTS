{
 "cells": [
  {
   "cell_type": "code",
   "execution_count": 1,
   "id": "95c15967-634b-40e6-9c3d-42dde1d391d1",
   "metadata": {},
   "outputs": [
    {
     "name": "stdout",
     "output_type": "stream",
     "text": [
      "CS101: Introduction to Computer Science (3 credit hours) - Required for Major: True\n",
      "MATH101: Calculus I (4 credit hours) - Elective Type: general\n"
     ]
    }
   ],
   "source": [
    "# Base class Course\n",
    "class Course:\n",
    "    def __init__(self, course_code, course_name, credit_hours):\n",
    "        self.course_code = course_code\n",
    "        self.course_name = course_name\n",
    "        self.credit_hours = credit_hours\n",
    "\n",
    "    def __str__(self):\n",
    "        return f\"{self.course_code}: {self.course_name} ({self.credit_hours} credit hours)\"\n",
    "\n",
    "# Subclass CoreCourse\n",
    "class CoreCourse(Course):\n",
    "    def __init__(self, course_code, course_name, credit_hours, required_for_major):\n",
    "        super().__init__(course_code, course_name, credit_hours)\n",
    "        self.required_for_major = required_for_major\n",
    "\n",
    "    def __str__(self):\n",
    "        return f\"{super().__str__()} - Required for Major: {self.required_for_major}\"\n",
    "\n",
    "# Subclass ElectiveCourse\n",
    "class ElectiveCourse(Course):\n",
    "    def __init__(self, course_code, course_name, credit_hours, elective_type):\n",
    "        super().__init__(course_code, course_name, credit_hours)\n",
    "        self.elective_type = elective_type\n",
    "\n",
    "    def __str__(self):\n",
    "        return f\"{super().__str__()} - Elective Type: {self.elective_type}\"\n",
    "\n",
    "# Create instances and test\n",
    "course1 = CoreCourse(\"CS101\", \"Introduction to Computer Science\", 3, True)\n",
    "course2 = ElectiveCourse(\"MATH101\", \"Calculus I\", 4, \"general\")\n",
    "\n",
    "print(course1)\n",
    "print(course2)\n"
   ]
  },
  {
   "cell_type": "code",
   "execution_count": 4,
   "id": "ba4c5c25-dbda-46a1-9c7b-3e5a4122dc8f",
   "metadata": {},
   "outputs": [],
   "source": [
    "# employee.py\n",
    "\n",
    "class Employee:\n",
    "    def __init__(self, name, salary):\n",
    "        self.name = name\n",
    "        self.salary = salary\n",
    "\n",
    "    def get_name(self):\n",
    "        return self.name\n",
    "\n",
    "    def get_salary(self):\n",
    "        return self.salary\n"
   ]
  },
  {
   "cell_type": "code",
   "execution_count": 5,
   "id": "988adfd7-3975-44fe-a35a-bc1739f07f8f",
   "metadata": {},
   "outputs": [
    {
     "ename": "ModuleNotFoundError",
     "evalue": "No module named 'employee'",
     "output_type": "error",
     "traceback": [
      "\u001b[1;31m---------------------------------------------------------------------------\u001b[0m",
      "\u001b[1;31mModuleNotFoundError\u001b[0m                       Traceback (most recent call last)",
      "Cell \u001b[1;32mIn[5], line 3\u001b[0m\n\u001b[0;32m      1\u001b[0m \u001b[38;5;66;03m# main.py\u001b[39;00m\n\u001b[1;32m----> 3\u001b[0m \u001b[38;5;28;01mimport\u001b[39;00m \u001b[38;5;21;01memployee\u001b[39;00m  \u001b[38;5;66;03m# Ensure employee.py is in the same directory or use the correct path\u001b[39;00m\n\u001b[0;32m      5\u001b[0m \u001b[38;5;66;03m# Create an Employee object\u001b[39;00m\n\u001b[0;32m      6\u001b[0m emp1 \u001b[38;5;241m=\u001b[39m employee\u001b[38;5;241m.\u001b[39mEmployee(\u001b[38;5;124m\"\u001b[39m\u001b[38;5;124mJohn Doe\u001b[39m\u001b[38;5;124m\"\u001b[39m, \u001b[38;5;241m50000\u001b[39m)\n",
      "\u001b[1;31mModuleNotFoundError\u001b[0m: No module named 'employee'"
     ]
    }
   ],
   "source": [
    "# main.py\n",
    "\n",
    "import employee  # Ensure employee.py is in the same directory or use the correct path\n",
    "\n",
    "# Create an Employee object\n",
    "emp1 = employee.Employee(\"John Doe\", 50000)\n",
    "\n",
    "# Display name and salary\n",
    "print(f\"Employee Name: {emp1.get_name()}\")\n",
    "print(f\"Employee Salary: ${emp1.get_salary():,.2f}\")\n"
   ]
  },
  {
   "cell_type": "code",
   "execution_count": null,
   "id": "ba454440-beaf-42d2-931b-d34704ebc345",
   "metadata": {},
   "outputs": [],
   "source": []
  }
 ],
 "metadata": {
  "kernelspec": {
   "display_name": "Python 3 (ipykernel)",
   "language": "python",
   "name": "python3"
  },
  "language_info": {
   "codemirror_mode": {
    "name": "ipython",
    "version": 3
   },
   "file_extension": ".py",
   "mimetype": "text/x-python",
   "name": "python",
   "nbconvert_exporter": "python",
   "pygments_lexer": "ipython3",
   "version": "3.12.7"
  }
 },
 "nbformat": 4,
 "nbformat_minor": 5
}
