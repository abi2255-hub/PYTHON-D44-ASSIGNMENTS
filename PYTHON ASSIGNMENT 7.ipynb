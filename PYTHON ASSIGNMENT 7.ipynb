{
 "cells": [
  {
   "cell_type": "code",
   "execution_count": 1,
   "id": "62e68eac-cb94-4ab0-9bee-7bd126458e0f",
   "metadata": {},
   "outputs": [
    {
     "name": "stdout",
     "output_type": "stream",
     "text": [
      "Requirement already satisfied: numpy in c:\\users\\abhin\\downloads\\python\\lib\\site-packages (1.26.4)\n",
      "Requirement already satisfied: pandas in c:\\users\\abhin\\downloads\\python\\lib\\site-packages (2.2.2)\n",
      "Requirement already satisfied: python-dateutil>=2.8.2 in c:\\users\\abhin\\downloads\\python\\lib\\site-packages (from pandas) (2.9.0.post0)\n",
      "Requirement already satisfied: pytz>=2020.1 in c:\\users\\abhin\\downloads\\python\\lib\\site-packages (from pandas) (2024.1)\n",
      "Requirement already satisfied: tzdata>=2022.7 in c:\\users\\abhin\\downloads\\python\\lib\\site-packages (from pandas) (2023.3)\n",
      "Requirement already satisfied: six>=1.5 in c:\\users\\abhin\\downloads\\python\\lib\\site-packages (from python-dateutil>=2.8.2->pandas) (1.16.0)\n",
      "Note: you may need to restart the kernel to use updated packages.\n"
     ]
    }
   ],
   "source": [
    "pip install numpy pandas\n"
   ]
  },
  {
   "cell_type": "code",
   "execution_count": 2,
   "id": "2e92764f-a3fa-43aa-8b62-8e09c69fe6cb",
   "metadata": {},
   "outputs": [
    {
     "name": "stdout",
     "output_type": "stream",
     "text": [
      "Reshaped 2x5 matrix:\n",
      " [[ 1  2  3  4  5]\n",
      " [ 6  7  8  9 10]]\n"
     ]
    }
   ],
   "source": [
    "import numpy as np\n",
    "\n",
    "# Create a NumPy array from 1 to 10\n",
    "arr = np.arange(1, 11)\n",
    "\n",
    "# Reshape the array to 2x5 matrix\n",
    "reshaped_arr = arr.reshape(2, 5)\n",
    "\n",
    "print(\"Reshaped 2x5 matrix:\\n\", reshaped_arr)\n"
   ]
  },
  {
   "cell_type": "code",
   "execution_count": 3,
   "id": "89297902-c4f1-45aa-bc06-828be54fd475",
   "metadata": {},
   "outputs": [
    {
     "name": "stdout",
     "output_type": "stream",
     "text": [
      "Extracted elements between 5th and 15th index: [ 6  7  8  9 10 11 12 13 14 15 16]\n"
     ]
    }
   ],
   "source": [
    "# Create a NumPy array from 1 to 20\n",
    "arr_20 = np.arange(1, 21)\n",
    "\n",
    "# Extract elements between index 5 and 15 (inclusive of 5th, exclusive of 15th index)\n",
    "extracted_elements = arr_20[5:16]\n",
    "\n",
    "print(\"Extracted elements between 5th and 15th index:\", extracted_elements)\n"
   ]
  },
  {
   "cell_type": "code",
   "execution_count": 4,
   "id": "16ae970e-4c38-4fe6-be71-bbfaebe5a202",
   "metadata": {},
   "outputs": [
    {
     "name": "stdout",
     "output_type": "stream",
     "text": [
      "Updated Pandas Series:\n",
      " apples     3\n",
      "bananas    2\n",
      "oranges    1\n",
      "pears      4\n",
      "dtype: int64\n"
     ]
    }
   ],
   "source": [
    "import pandas as pd\n",
    "\n",
    "# Create a Pandas series\n",
    "fruit_series = pd.Series({'apples': 3, 'bananas': 2, 'oranges': 1})\n",
    "\n",
    "# Add a new item with the key 'pears' and value 4\n",
    "fruit_series['pears'] = 4\n",
    "\n",
    "print(\"Updated Pandas Series:\\n\", fruit_series)\n"
   ]
  },
  {
   "cell_type": "code",
   "execution_count": 5,
   "id": "93560e75-d1b6-4d66-83bd-eed909de435a",
   "metadata": {},
   "outputs": [
    {
     "name": "stdout",
     "output_type": "stream",
     "text": [
      "DataFrame:\n",
      "       name  age gender\n",
      "0    Alice   25      F\n",
      "1      Bob   30      M\n",
      "2  Charlie   35      M\n",
      "3    David   40      M\n",
      "4      Eva   45      F\n",
      "5    Frank   50      M\n",
      "6    Grace   55      F\n",
      "7   Hannah   60      F\n",
      "8      Ivy   65      F\n",
      "9     Jack   70      M\n"
     ]
    }
   ],
   "source": [
    "# Create a DataFrame with 10 rows of data\n",
    "data = {\n",
    "    'name': ['Alice', 'Bob', 'Charlie', 'David', 'Eva', 'Frank', 'Grace', 'Hannah', 'Ivy', 'Jack'],\n",
    "    'age': [25, 30, 35, 40, 45, 50, 55, 60, 65, 70],\n",
    "    'gender': ['F', 'M', 'M', 'M', 'F', 'M', 'F', 'F', 'F', 'M']\n",
    "}\n",
    "\n",
    "df = pd.DataFrame(data)\n",
    "\n",
    "print(\"DataFrame:\\n\", df)\n"
   ]
  },
  {
   "cell_type": "code",
   "execution_count": 6,
   "id": "65958b2d-33c9-44e0-a72d-6dabcd126896",
   "metadata": {},
   "outputs": [
    {
     "name": "stdout",
     "output_type": "stream",
     "text": [
      "Updated DataFrame with 'occupation' column:\n",
      "       name  age gender  occupation\n",
      "0    Alice   25      F  Programmer\n",
      "1      Bob   30      M     Manager\n",
      "2  Charlie   35      M     Analyst\n",
      "3    David   40      M  Programmer\n",
      "4      Eva   45      F     Manager\n",
      "5    Frank   50      M     Analyst\n",
      "6    Grace   55      F  Programmer\n",
      "7   Hannah   60      F     Manager\n",
      "8      Ivy   65      F     Analyst\n",
      "9     Jack   70      M  Programmer\n"
     ]
    }
   ],
   "source": [
    "# Define occupation values\n",
    "occupations = ['Programmer', 'Manager', 'Analyst', 'Programmer', 'Manager', \n",
    "               'Analyst', 'Programmer', 'Manager', 'Analyst', 'Programmer']\n",
    "\n",
    "# Add the 'occupation' column to the dataframe\n",
    "df['occupation'] = occupations\n",
    "\n",
    "print(\"Updated DataFrame with 'occupation' column:\\n\", df)\n"
   ]
  },
  {
   "cell_type": "code",
   "execution_count": 7,
   "id": "b9fd54c3-99f9-4005-9f13-1bfd5192f27c",
   "metadata": {},
   "outputs": [
    {
     "name": "stdout",
     "output_type": "stream",
     "text": [
      "Rows where age is greater than or equal to 30:\n",
      "       name  age gender  occupation\n",
      "1      Bob   30      M     Manager\n",
      "2  Charlie   35      M     Analyst\n",
      "3    David   40      M  Programmer\n",
      "4      Eva   45      F     Manager\n",
      "5    Frank   50      M     Analyst\n",
      "6    Grace   55      F  Programmer\n",
      "7   Hannah   60      F     Manager\n",
      "8      Ivy   65      F     Analyst\n",
      "9     Jack   70      M  Programmer\n"
     ]
    }
   ],
   "source": [
    "# Select rows where age >= 30\n",
    "age_filtered_df = df[df['age'] >= 30]\n",
    "\n",
    "print(\"Rows where age is greater than or equal to 30:\\n\", age_filtered_df)\n"
   ]
  },
  {
   "cell_type": "code",
   "execution_count": 8,
   "id": "49838b15-cf25-41a7-9213-e6566ddaa09e",
   "metadata": {},
   "outputs": [
    {
     "name": "stdout",
     "output_type": "stream",
     "text": [
      "Contents of the CSV file:\n",
      "       name  age gender  occupation\n",
      "0    Alice   25      F  Programmer\n",
      "1      Bob   30      M     Manager\n",
      "2  Charlie   35      M     Analyst\n",
      "3    David   40      M  Programmer\n",
      "4      Eva   45      F     Manager\n",
      "5    Frank   50      M     Analyst\n",
      "6    Grace   55      F  Programmer\n",
      "7   Hannah   60      F     Manager\n",
      "8      Ivy   65      F     Analyst\n",
      "9     Jack   70      M  Programmer\n"
     ]
    }
   ],
   "source": [
    "# Convert the DataFrame to a CSV file\n",
    "df.to_csv('people.csv', index=False)\n",
    "\n",
    "# Read the CSV file into a new DataFrame\n",
    "df_from_csv = pd.read_csv('people.csv')\n",
    "\n",
    "print(\"Contents of the CSV file:\\n\", df_from_csv)\n"
   ]
  },
  {
   "cell_type": "code",
   "execution_count": null,
   "id": "78530388-96ac-4f1e-aadd-d55dd66eec36",
   "metadata": {},
   "outputs": [],
   "source": []
  }
 ],
 "metadata": {
  "kernelspec": {
   "display_name": "Python 3 (ipykernel)",
   "language": "python",
   "name": "python3"
  },
  "language_info": {
   "codemirror_mode": {
    "name": "ipython",
    "version": 3
   },
   "file_extension": ".py",
   "mimetype": "text/x-python",
   "name": "python",
   "nbconvert_exporter": "python",
   "pygments_lexer": "ipython3",
   "version": "3.12.7"
  }
 },
 "nbformat": 4,
 "nbformat_minor": 5
}
