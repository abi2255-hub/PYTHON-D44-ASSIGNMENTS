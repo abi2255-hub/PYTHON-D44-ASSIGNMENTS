{
 "cells": [
  {
   "cell_type": "code",
   "execution_count": 1,
   "id": "479acc61-c4d0-4916-bdc2-d04fe55fcea7",
   "metadata": {},
   "outputs": [
    {
     "name": "stdout",
     "output_type": "stream",
     "text": [
      "Alice ST1234 alice@example.com\n",
      "Alice\n",
      "ST1234\n",
      "alice@example.com\n",
      "14 + 7 = 21\n",
      "14 * 7 = 98\n",
      "14 - 7 = 7\n",
      "14 / 7 = 2.0\n",
      "1\n",
      "2\n",
      "3\n",
      "4\n",
      "5\n",
      "\"SDK\" stands for \"Software Development Kit\",\n",
      "whereas \"IDE\" stands for \"Integrated Development Environment\".\n",
      "python is an \"awesome\" language.\n",
      "python\n",
      "\t2023\n",
      "I'm from Entri\n",
      "5\n",
      "e\n",
      "Entri\n",
      "2023\n",
      "Entr2023\n",
      "Entri*20\n",
      "<class 'int'>\n",
      "<class 'str'>\n",
      "<class 'float'>\n",
      "Sum: 178.3\n",
      "Data type of sum: <class 'float'>\n",
      "This program calculates the number of minutes in a year.\n",
      "Total minutes in a year: 525600\n"
     ]
    },
    {
     "name": "stdin",
     "output_type": "stream",
     "text": [
      "Please enter your name:  Abhinand\n"
     ]
    },
    {
     "name": "stdout",
     "output_type": "stream",
     "text": [
      "Hi Abhinand, welcome to Python programming :)\n"
     ]
    },
    {
     "name": "stdin",
     "output_type": "stream",
     "text": [
      "Please enter amount in pounds:  20\n"
     ]
    },
    {
     "name": "stdout",
     "output_type": "stream",
     "text": [
      "£20.0 are $25.0\n"
     ]
    }
   ],
   "source": [
    "print(\"Alice ST1234 alice@example.com\")\n",
    "\n",
    "print(\"Alice\\nST1234\\nalice@example.com\")\n",
    "\n",
    "a = 14\n",
    "b = 7\n",
    "print(f\"{a} + {b} = {a + b}\")\n",
    "print(f\"{a} * {b} = {a * b}\")\n",
    "print(f\"{a} - {b} = {a - b}\")\n",
    "print(f\"{a} / {b} = {a / b}\")\n",
    "\n",
    "for i in range(1, 6):\n",
    "    print(i)\n",
    "\n",
    "print(\"\\\"SDK\\\" stands for \\\"Software Development Kit\\\",\\nwhereas \\\"IDE\\\" stands for \\\"Integrated Development Environment\\\".\")\n",
    "\n",
    "print(\"python is an \\\"awesome\\\" language.\")\n",
    "print(\"python\\n\\t2023\")\n",
    "print('I\\'m from Entri.\\b')\n",
    "print(\"\\65\")\n",
    "print(\"\\x65\")\n",
    "print(\"Entri\", \"2023\", sep=\"\\n\")\n",
    "print(\"Entri\", \"2023\", sep=\"\\b\")\n",
    "print(\"Entri\", \"2023\", sep=\"*\", end=\"\\b\\b\\b\\b\")\n",
    "print()\n",
    "\n",
    "num = 23\n",
    "textnum = \"57\"\n",
    "decimal = 98.3\n",
    "print(type(num))\n",
    "print(type(textnum))\n",
    "print(type(decimal))\n",
    "total = num + int(textnum) + decimal\n",
    "print(\"Sum:\", total)\n",
    "print(\"Data type of sum:\", type(total))\n",
    "\n",
    "days_in_year = 365\n",
    "hours_in_day = 24\n",
    "minutes_in_hour = 60\n",
    "total_minutes = days_in_year * hours_in_day * minutes_in_hour\n",
    "print(\"This program calculates the number of minutes in a year.\")\n",
    "print(\"Total minutes in a year:\", total_minutes)\n",
    "\n",
    "name = input(\"Please enter your name: \")\n",
    "print(f\"Hi {name}, welcome to Python programming :)\")\n",
    "\n",
    "pounds = float(input(\"Please enter amount in pounds: \"))\n",
    "conversion_rate = 1.25\n",
    "dollars = pounds * conversion_rate\n",
    "print(f\"£{pounds} are ${dollars}\")\n"
   ]
  },
  {
   "cell_type": "code",
   "execution_count": null,
   "id": "9baa4540-ab82-4af0-b53c-237906f0e646",
   "metadata": {},
   "outputs": [],
   "source": []
  }
 ],
 "metadata": {
  "kernelspec": {
   "display_name": "Python 3 (ipykernel)",
   "language": "python",
   "name": "python3"
  },
  "language_info": {
   "codemirror_mode": {
    "name": "ipython",
    "version": 3
   },
   "file_extension": ".py",
   "mimetype": "text/x-python",
   "name": "python",
   "nbconvert_exporter": "python",
   "pygments_lexer": "ipython3",
   "version": "3.12.7"
  }
 },
 "nbformat": 4,
 "nbformat_minor": 5
}
